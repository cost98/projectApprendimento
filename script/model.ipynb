{
 "cells": [
  {
   "cell_type": "code",
   "execution_count": 65,
   "id": "ca0e1f93",
   "metadata": {},
   "outputs": [],
   "source": [
    "import pandas as pd\n",
    "import seaborn as sn\n",
    "import matplotlib.pyplot as plt\n",
    "from sklearn.metrics import confusion_matrix\n",
    "import keras\n",
    "from keras.models import Sequential\n",
    "from keras.layers import Dense, Dropout, LSTM\n",
    "from sklearn.preprocessing import StandardScaler \n",
    "import numpy as np\n",
    "from scipy import stats\n",
    "import tensorflow as tf\n",
    "\n"
   ]
  },
  {
   "cell_type": "code",
   "execution_count": 66,
   "id": "094d4c9a",
   "metadata": {},
   "outputs": [],
   "source": [
    "train = pd.read_csv(\"C:/Users/STRUSI Cosimo/Documents/Uni/Consegna Ramat/projectApprendimento/TrainData1.csv\")\n",
    "test = pd.read_csv(\"C:/Users/STRUSI Cosimo/Documents/Uni/Consegna Ramat/projectApprendimento/TestData1.csv\")\n",
    "val = pd.read_csv(\"C:/Users/STRUSI Cosimo/Documents/Uni/Consegna Ramat/projectApprendimento/ValData1.csv\")\n",
    "\n",
    "\n"
   ]
  },
  {
   "cell_type": "markdown",
   "id": "3a834798",
   "metadata": {},
   "source": [
    "Preprocessing : scalatura dati di training e test"
   ]
  },
  {
   "cell_type": "code",
   "execution_count": 67,
   "id": "918f4c12",
   "metadata": {},
   "outputs": [],
   "source": [
    "scale_columns = ['accel_x','accel_y','accel_z','accel_norm',\n",
    "'gyro_x','gyro_y','gyro_z']\n",
    "\n",
    "scaler = StandardScaler() \n",
    "\n",
    "train_sc = train[scale_columns]\n",
    "test_sc = test[scale_columns]\n",
    "val_sc = val[scale_columns]\n",
    "\n",
    "scaler = scaler.fit(train_sc[scale_columns]) # calcola il massimo e il minimo\n",
    "scaler.fit(train_sc) \n",
    "train_sc = scaler.transform(train_sc) \n",
    "test_sc = scaler.transform(test_sc)\n",
    "val_sc = scaler.transform(val_sc)\n",
    "\n",
    "train_sc =pd.DataFrame(train_sc,columns = scale_columns)\n",
    "test_sc =pd.DataFrame(test_sc,columns = scale_columns)\n",
    "val_sc =pd.DataFrame(val_sc,columns = scale_columns)\n",
    "\n",
    "train_sc['subject'] = train['subject']\n",
    "test_sc['subject'] = test['subject']\n",
    "val_sc['subject'] = val['subject']\n",
    "\n",
    "train_sc['activity'] = train['activity']\n",
    "test_sc['activity'] = test['activity']\n",
    "val_sc['activity'] = val['activity']\n",
    "\n",
    "\n",
    "\n",
    "\n",
    "\n",
    "trainNew = np.vstack([train[['accel_x','accel_y','accel_z','accel_norm',\n",
    "'gyro_x','gyro_y','gyro_z','activity','subject']], val[['accel_x','accel_y','accel_z','accel_norm',\n",
    "'gyro_x','gyro_y','gyro_z','activity','subject']]]) # generate an error\n",
    "trainNew.shape\n",
    "trainNew = pd.DataFrame(trainNew,columns=['accel_x','accel_y','accel_z','accel_norm',\n",
    "'gyro_x','gyro_y','gyro_z','activity','subject'])\n",
    "\n",
    "train_scNew = trainNew[scale_columns]\n",
    "test_scNew = test[scale_columns]\n",
    "\n",
    "scaler = scaler.fit(train_scNew) # calcola il massimo e il minimo\n",
    "trainNew_sc = scaler.transform(train_scNew) \n",
    "testNew_sc = scaler.transform(test_scNew)\n",
    "\n",
    "trainNew_sc =pd.DataFrame(trainNew_sc,columns = scale_columns)\n",
    "testNew_sc =pd.DataFrame(test_sc,columns = scale_columns)\n",
    "\n",
    "trainNew_sc['subject'] = trainNew['subject']\n",
    "testNew_sc['subject'] = test['subject']\n",
    "\n",
    "trainNew_sc['activity'] = trainNew['activity']\n",
    "testNew_sc['activity'] = test['activity']"
   ]
  },
  {
   "cell_type": "markdown",
   "id": "9a8c51a6",
   "metadata": {},
   "source": [
    "Preprocessing - create timeseries"
   ]
  },
  {
   "cell_type": "code",
   "execution_count": 68,
   "id": "10d04e44",
   "metadata": {},
   "outputs": [],
   "source": [
    "# funzione per organizzare il dataset\n",
    "def create_dataset(X, y, time_steps, step):\n",
    "    Xs, ys = [], [] # inizializzo due liste vuote\n",
    "    if step !=0:\n",
    "      for i in range(0, len(X) - time_steps, step): # ciclo for che parte da zero alla lughezza di (X-time_steps), con passo di step\n",
    "          v = X.iloc[i:(i + time_steps)].values # del DataFrame prendo i valori che vanno da i fino ad i+time_steps\n",
    "          labels = y.iloc[i: i + time_steps] # stessa cosa con le labels\n",
    "          Xs.append(v) # aggiunge un item in coda alla lista\n",
    "          ys.append(stats.mode(labels)[0][0]) # ad ogni finestra corrisponderà un valore di una classe\n",
    "    else:\n",
    "      for i in range(0, len(X) - time_steps, time_steps): # ciclo for che parte da zero alla lughezza di (X-time_steps), con passo di  time_steps\n",
    "          v = X.iloc[i:(i + time_steps)].values # del DataFrame prendo i valori che vanno da i fino ad i+time_steps\n",
    "          labels = y.iloc[i: i + time_steps] # stessa cosa con le labels\n",
    "          Xs.append(v) # aggiunge un item in coda alla lista\n",
    "          ys.append(stats.mode(labels)[0][0]) # ad ogni finestra corrisponderà un valore di una classe\n",
    "    return np.array(Xs), np.array(ys).reshape(-1, 1) # output della funzione resistuisce Xs come un array e Ys come un vettore\n",
    "\n",
    "train = train_sc\n",
    "test = test_sc\n",
    "val = val_sc\n",
    "\n",
    "trainNew = trainNew_sc\n",
    "testNew = testNew_sc\n",
    "\n",
    "\n",
    "\n",
    "TIME_STEPS = 200\n",
    "STEP = 40\n",
    "# richiamo la funzione per creare X_train e Y_train\n",
    "X_train, Y_train = create_dataset(\n",
    "    train[ ['accel_x','accel_y','accel_z','accel_norm',\n",
    "'gyro_x','gyro_y','gyro_z']],\n",
    "    train.activity,\n",
    "    TIME_STEPS,\n",
    "    STEP\n",
    ")\n",
    "\n",
    "TIME_STEPS = 200\n",
    "STEP = 0\n",
    "# richiamo la funzione per creare X_val e Y_val\n",
    "\n",
    "X_val, Y_val = create_dataset(\n",
    "    val[ ['accel_x','accel_y','accel_z','accel_norm',\n",
    "'gyro_x','gyro_y','gyro_z']],\n",
    "    val.activity,\n",
    "    TIME_STEPS,\n",
    "    STEP\n",
    ")\n",
    "\n",
    "TIME_STEPS = 200\n",
    "STEP = 0\n",
    "# richiamo la funzione per creare X_test e Y_test\n",
    "\n",
    "X_test, Y_test = create_dataset(\n",
    "    test[ ['accel_x','accel_y','accel_z','accel_norm',\n",
    "'gyro_x','gyro_y','gyro_z']],\n",
    "    test.activity,\n",
    "    TIME_STEPS,\n",
    "    STEP\n",
    ")\n",
    "\n",
    "\n",
    "TIME_STEPS = 200\n",
    "STEP = 40\n",
    "# richiamo la funzione per creare X_train e Y_train\n",
    "X_trainNew, Y_trainNew = create_dataset(\n",
    "    trainNew[ ['accel_x','accel_y','accel_z','accel_norm',\n",
    "'gyro_x','gyro_y','gyro_z']],\n",
    "    trainNew.activity,\n",
    "    TIME_STEPS,\n",
    "    STEP\n",
    ")\n",
    "\n",
    "TIME_STEPS = 200\n",
    "STEP = 0\n",
    "# richiamo la funzione per creare X_test e Y_test\n",
    "\n",
    "X_testNew, Y_testNew = create_dataset(\n",
    "    testNew[ ['accel_x','accel_y','accel_z','accel_norm',\n",
    "'gyro_x','gyro_y','gyro_z']],\n",
    "    testNew.activity,\n",
    "    TIME_STEPS,\n",
    "    STEP\n",
    ")\n"
   ]
  },
  {
   "cell_type": "markdown",
   "id": "130e1aed",
   "metadata": {},
   "source": [
    "Preprocessing - one hot encoding"
   ]
  },
  {
   "cell_type": "code",
   "execution_count": 69,
   "id": "69e6f78d",
   "metadata": {},
   "outputs": [],
   "source": [
    "y_train = Y_train.reshape((-1))\n",
    "y_test = Y_test.reshape((-1))\n",
    "y_val = Y_val.reshape((-1))\n",
    "y_trainNew = Y_trainNew.reshape((-1))\n",
    "y_testNew = Y_testNew.reshape((-1))\n",
    "# One Hot encoding \n",
    "y_train = pd.get_dummies(y_train)\n",
    "y_test = pd.get_dummies(y_test)\n",
    "y_val = pd.get_dummies(y_val)\n",
    "y_trainNew = pd.get_dummies(y_trainNew)\n",
    "y_testNew = pd.get_dummies(y_testNew)"
   ]
  },
  {
   "cell_type": "markdown",
   "id": "5fcd1fa3",
   "metadata": {},
   "source": [
    "First model"
   ]
  },
  {
   "cell_type": "code",
   "execution_count": 70,
   "id": "54ba0f2e",
   "metadata": {},
   "outputs": [
    {
     "name": "stdout",
     "output_type": "stream",
     "text": [
      "Epoch 1/15\n",
      "329/329 [==============================] - 98s 290ms/step - loss: 1.2499 - accuracy: 0.5753 - val_loss: 0.7941 - val_accuracy: 0.7137\n",
      "Epoch 2/15\n",
      "329/329 [==============================] - 75s 228ms/step - loss: 0.6845 - accuracy: 0.7359 - val_loss: 0.5904 - val_accuracy: 0.7680\n",
      "Epoch 3/15\n",
      "329/329 [==============================] - 76s 232ms/step - loss: 0.4744 - accuracy: 0.8284 - val_loss: 0.3696 - val_accuracy: 0.8799\n",
      "Epoch 4/15\n",
      "329/329 [==============================] - 76s 231ms/step - loss: 0.3835 - accuracy: 0.8557 - val_loss: 0.3778 - val_accuracy: 0.8799\n",
      "Epoch 5/15\n",
      "329/329 [==============================] - 77s 234ms/step - loss: 0.3405 - accuracy: 0.8801 - val_loss: 0.2910 - val_accuracy: 0.9274\n",
      "Epoch 6/15\n",
      "329/329 [==============================] - 74s 224ms/step - loss: 0.2736 - accuracy: 0.9189 - val_loss: 0.2588 - val_accuracy: 0.9369\n",
      "Epoch 7/15\n",
      "329/329 [==============================] - 73s 221ms/step - loss: 0.2580 - accuracy: 0.9283 - val_loss: 0.2650 - val_accuracy: 0.9328\n",
      "Epoch 8/15\n",
      "329/329 [==============================] - 91s 276ms/step - loss: 0.2491 - accuracy: 0.9347 - val_loss: 0.2679 - val_accuracy: 0.9308\n",
      "Epoch 9/15\n",
      "329/329 [==============================] - 97s 294ms/step - loss: 0.2016 - accuracy: 0.9489 - val_loss: 0.2521 - val_accuracy: 0.9227\n",
      "Epoch 10/15\n",
      "329/329 [==============================] - 98s 300ms/step - loss: 0.1889 - accuracy: 0.9535 - val_loss: 0.2869 - val_accuracy: 0.9179\n",
      "Epoch 11/15\n",
      "329/329 [==============================] - 92s 278ms/step - loss: 0.2243 - accuracy: 0.9358 - val_loss: 0.2824 - val_accuracy: 0.9023\n",
      "Epoch 12/15\n",
      "329/329 [==============================] - 90s 274ms/step - loss: 0.1856 - accuracy: 0.9520 - val_loss: 0.2539 - val_accuracy: 0.9179\n",
      "Epoch 13/15\n",
      "329/329 [==============================] - 91s 277ms/step - loss: 0.1617 - accuracy: 0.9606 - val_loss: 0.3302 - val_accuracy: 0.8955\n",
      "Epoch 14/15\n",
      "329/329 [==============================] - 88s 268ms/step - loss: 0.1672 - accuracy: 0.9577 - val_loss: 0.2259 - val_accuracy: 0.9308\n",
      "Epoch 15/15\n",
      "329/329 [==============================] - 93s 283ms/step - loss: 0.1673 - accuracy: 0.9584 - val_loss: 0.3510 - val_accuracy: 0.8894\n"
     ]
    }
   ],
   "source": [
    "# Modello\n",
    "model = keras.Sequential()\n",
    "model.add(LSTM(100, input_shape=(X_train.shape[1],X_train.shape[2])))\n",
    "model.add(Dropout(0.3))\n",
    "model.add(Dense(100,activation='relu'))\n",
    "model.add(Dense(y_train.shape[1], activation='softmax'))\n",
    "\n",
    "# Compilazione del modello\n",
    "model.compile(loss='categorical_crossentropy', optimizer=tf.keras.optimizers.Adam(learning_rate= 1e-4), metrics=['accuracy'])\n",
    "\n",
    "history = model.fit(X_train, y_train, validation_data=(X_val, y_val),  batch_size=64, epochs=15)"
   ]
  },
  {
   "cell_type": "code",
   "execution_count": 71,
   "id": "73a24463",
   "metadata": {},
   "outputs": [
    {
     "name": "stdout",
     "output_type": "stream",
     "text": [
      "Model: \"sequential_5\"\n",
      "_________________________________________________________________\n",
      " Layer (type)                Output Shape              Param #   \n",
      "=================================================================\n",
      " lstm_5 (LSTM)               (None, 100)               43200     \n",
      "                                                                 \n",
      " dropout_5 (Dropout)         (None, 100)               0         \n",
      "                                                                 \n",
      " dense_10 (Dense)            (None, 100)               10100     \n",
      "                                                                 \n",
      " dense_11 (Dense)            (None, 6)                 606       \n",
      "                                                                 \n",
      "=================================================================\n",
      "Total params: 53,906\n",
      "Trainable params: 53,906\n",
      "Non-trainable params: 0\n",
      "_________________________________________________________________\n"
     ]
    }
   ],
   "source": [
    "model.summary()"
   ]
  },
  {
   "cell_type": "code",
   "execution_count": 72,
   "id": "d13ac08d",
   "metadata": {},
   "outputs": [
    {
     "data": {
      "text/plain": [
       "Text(0.5, 0, 'epoca')"
      ]
     },
     "execution_count": 72,
     "metadata": {},
     "output_type": "execute_result"
    },
    {
     "data": {
      "image/png": "[encoded data removed]",
      "text/plain": [
       "<Figure size 864x288 with 1 Axes>"
      ]
     },
     "metadata": {
      "needs_background": "light"
     },
     "output_type": "display_data"
    },
    {
     "data": {
      "image/png": "[encoded data removed]",
      "text/plain": [
       "<Figure size 864x288 with 1 Axes>"
      ]
     },
     "metadata": {
      "needs_background": "light"
     },
     "output_type": "display_data"
    }
   ],
   "source": [
    "fig, axs = plt.subplots(figsize=(12, 4))\n",
    "history_df1 = pd.DataFrame(history.history)\n",
    "history_df1.loc[:, ['loss', 'val_loss']].plot(ax=axs)\n",
    "axs.set_xlabel(\"epoca\")\n",
    "\n",
    "fig, axs = plt.subplots(figsize=(12, 4))\n",
    "history_df1.loc[:, ['accuracy', 'val_accuracy']].plot(ax=axs)\n",
    "axs.set_xlabel(\"epoca\")"
   ]
  },
  {
   "cell_type": "code",
   "execution_count": 73,
   "id": "3010c296",
   "metadata": {},
   "outputs": [
    {
     "name": "stdout",
     "output_type": "stream",
     "text": [
      "Epoch 1/15\n",
      "444/444 [==============================] - 113s 247ms/step - loss: 1.1066 - accuracy: 0.6096\n",
      "Epoch 2/15\n",
      "444/444 [==============================] - 109s 245ms/step - loss: 0.6703 - accuracy: 0.7451\n",
      "Epoch 3/15\n",
      "444/444 [==============================] - 108s 242ms/step - loss: 0.4300 - accuracy: 0.8556\n",
      "Epoch 4/15\n",
      "444/444 [==============================] - 108s 243ms/step - loss: 0.2929 - accuracy: 0.9202\n",
      "Epoch 5/15\n",
      "444/444 [==============================] - 111s 250ms/step - loss: 0.2838 - accuracy: 0.9245\n",
      "Epoch 6/15\n",
      "444/444 [==============================] - 109s 245ms/step - loss: 0.2094 - accuracy: 0.9448\n",
      "Epoch 7/15\n",
      "444/444 [==============================] - 108s 243ms/step - loss: 0.1747 - accuracy: 0.9547\n",
      "Epoch 8/15\n",
      "444/444 [==============================] - 115s 259ms/step - loss: 0.1581 - accuracy: 0.9591\n",
      "Epoch 9/15\n",
      "444/444 [==============================] - 106s 239ms/step - loss: 0.1503 - accuracy: 0.9615\n",
      "Epoch 10/15\n",
      "444/444 [==============================] - 104s 234ms/step - loss: 0.1437 - accuracy: 0.9644\n",
      "Epoch 11/15\n",
      "444/444 [==============================] - 104s 234ms/step - loss: 0.2226 - accuracy: 0.9435\n",
      "Epoch 12/15\n",
      "444/444 [==============================] - 104s 234ms/step - loss: 0.1392 - accuracy: 0.9675\n",
      "Epoch 13/15\n",
      "444/444 [==============================] - 105s 236ms/step - loss: 0.1212 - accuracy: 0.9697\n",
      "Epoch 14/15\n",
      "444/444 [==============================] - 110s 247ms/step - loss: 0.1202 - accuracy: 0.9706\n",
      "Epoch 15/15\n",
      "444/444 [==============================] - 106s 239ms/step - loss: 0.1114 - accuracy: 0.9716\n"
     ]
    }
   ],
   "source": [
    "# Modello allenato su tutti i dati di training e validation\n",
    "model = keras.Sequential()\n",
    "model.add(LSTM(100, input_shape=(X_trainNew.shape[1],X_trainNew.shape[2])))\n",
    "model.add(Dropout(0.3))\n",
    "model.add(Dense(100,activation='relu'))\n",
    "model.add(Dense(y_trainNew.shape[1], activation='softmax'))\n",
    "\n",
    "# Compilazione del modello\n",
    "model.compile(loss='categorical_crossentropy', optimizer=tf.keras.optimizers.Adam(learning_rate= 1e-4), metrics=['accuracy'])\n",
    "\n",
    "history = model.fit(X_trainNew, y_trainNew,  batch_size=64, epochs=15)"
   ]
  },
  {
   "cell_type": "markdown",
   "id": "42b1b3d3",
   "metadata": {},
   "source": [
    "First model - Evaluate first model"
   ]
  },
  {
   "cell_type": "code",
   "execution_count": 77,
   "id": "2fe9b486",
   "metadata": {},
   "outputs": [
    {
     "name": "stdout",
     "output_type": "stream",
     "text": [
      "44/44 [==============================] - 3s 58ms/step - loss: 0.2871 - accuracy: 0.9358\n",
      "44/44 [==============================] - 2s 54ms/step\n"
     ]
    },
    {
     "name": "stderr",
     "output_type": "stream",
     "text": [
      "WARNING:absl:Found untraced functions such as lstm_cell_6_layer_call_fn, lstm_cell_6_layer_call_and_return_conditional_losses while saving (showing 2 of 2). These functions will not be directly callable after loading.\n"
     ]
    },
    {
     "name": "stdout",
     "output_type": "stream",
     "text": [
      "INFO:tensorflow:Assets written to: modelloLSTM1\\assets\n"
     ]
    },
    {
     "name": "stderr",
     "output_type": "stream",
     "text": [
      "INFO:tensorflow:Assets written to: modelloLSTM1\\assets\n"
     ]
    },
    {
     "name": "stdout",
     "output_type": "stream",
     "text": [
      "0.935832732516222 [0.95241528 0.99495314 0.99783706 0.98485941 0.96971882 0.97188176] [0.73758865 0.96969697 0.99082569 1.         0.85185185 0.94101124] [0.78195489 0.97709924 1.         0.92758621 0.88461538 0.9490085 ]\n"
     ]
    },
    {
     "data": {
      "text/plain": [
       "Text(0.5, 87.0, 'Output')"
      ]
     },
     "execution_count": 77,
     "metadata": {},
     "output_type": "execute_result"
    },
    {
     "data": {
      "image/png": "[encoded data removed]",
      "text/plain": [
       "<Figure size 864x864 with 1 Axes>"
      ]
     },
     "metadata": {
      "needs_background": "light"
     },
     "output_type": "display_data"
    }
   ],
   "source": [
    "model.evaluate(X_testNew,y_testNew)\n",
    "\n",
    "# Test del modello allenato\n",
    "y_hat = model.predict(X_testNew) # output dell'ultimo strato del modello\n",
    "predict = np.argmax(y_hat, axis=1) # ricodifico i valori predetti\n",
    "label = np.argmax(y_testNew.values, axis=1) # ricodifico i valori veri\n",
    "\n",
    "\n",
    "model.save(\"modelloLSTM1\")\n",
    "\n",
    "\n",
    "\n",
    "def statistical_measures(predict, label):  \n",
    "  cnf_matrix = confusion_matrix(label, predict)\n",
    "  # falsi positivi\n",
    "  FP = cnf_matrix.sum(axis=0) - np.diag(cnf_matrix) \n",
    "  # falsi negativi\n",
    "  FN = cnf_matrix.sum(axis=1) - np.diag(cnf_matrix)\n",
    "  # veri positivi\n",
    "  TP = np.diag(cnf_matrix)\n",
    "  # veri negativi\n",
    "  TN = cnf_matrix.sum() - (FP + FN + TP)\n",
    "  # assegno il tipo di variabile\n",
    "  FP = FP.astype(float)\n",
    "  FN = FN.astype(float)\n",
    "  TP = TP.astype(float)\n",
    "  TN = TN.astype(float)\n",
    "  # Sensitivity, hit rate, recall, or true positive rate\n",
    "  TPR = TP / (TP + FN)\n",
    "  # Specificity or true negative rate\n",
    "  TNR = TN / (TN + FP)\n",
    "  # Precision or positive predictive value\n",
    "  PPV = TP / (TP + FP)\n",
    "  # Negative predictive value\n",
    "  NPV = TN / (TN + FN)\n",
    "  # Fall out or false positive rate\n",
    "  FPR = FP / (FP + TN)\n",
    "  # False negative rate\n",
    "  FNR = FN / (TP + FN)\n",
    "  # False discovery rate\n",
    "  FDR = FP / (TP + FP)\n",
    "  # Overall accuracy for each class\n",
    "  ACC = (TP + TN) / (TP + FP + FN + TN)\n",
    "  ACC_TOT = (cnf_matrix.diagonal()).sum() / len(label)\n",
    "  return ACC_TOT, ACC, PPV, TPR # output\n",
    "\n",
    "acc_tot, acc_classes, precision_classes, recall_classes = statistical_measures(predict, label) # richiamo la funzione\n",
    "print(acc_tot, acc_classes, precision_classes, recall_classes)\n",
    "\n",
    "cm = (confusion_matrix(label, predict))\n",
    "true_labels = np.unique(Y_test) # creo il vettore delle classi possibili\n",
    "\n",
    "\n",
    "\n",
    "\n",
    "df_cm = pd.DataFrame(cm, index = [i for i in true_labels], columns = [i for i in true_labels]) # percetuali di quanti esempi per classe sono stati classificati correttamente\n",
    "df_cm.head()\n",
    "\n",
    "plt.figure(figsize = (12,12)) # size della figura\n",
    "sn.heatmap(df_cm, annot=True,cbar=False, linewidths=.8, square=True, xticklabels=true_labels,\n",
    "            yticklabels=true_labels ) # confusion matrix\n",
    "plt.title('Confusion Matrix', fontsize=22)\n",
    "plt.ylabel('Target', fontsize=20)\n",
    "plt.xlabel('Output', fontsize=20)"
   ]
  },
  {
   "cell_type": "markdown",
   "id": "c34d6579",
   "metadata": {},
   "source": [
    "Second model"
   ]
  },
  {
   "cell_type": "code",
   "execution_count": 78,
   "id": "f3b5991e",
   "metadata": {
    "scrolled": false
   },
   "outputs": [
    {
     "name": "stdout",
     "output_type": "stream",
     "text": [
      "Epoch 1/15\n",
      "329/329 [==============================] - 441s 1s/step - loss: 1.0022 - accuracy: 0.6270 - val_loss: 0.5251 - val_accuracy: 0.8412\n",
      "Epoch 2/15\n",
      "329/329 [==============================] - 483s 1s/step - loss: 0.3338 - accuracy: 0.9083 - val_loss: 0.2904 - val_accuracy: 0.9261\n",
      "Epoch 3/15\n",
      "329/329 [==============================] - 484s 1s/step - loss: 0.2397 - accuracy: 0.9421 - val_loss: 0.2793 - val_accuracy: 0.9267\n",
      "Epoch 4/15\n",
      "329/329 [==============================] - 472s 1s/step - loss: 0.1910 - accuracy: 0.9545 - val_loss: 0.2112 - val_accuracy: 0.9471\n",
      "Epoch 5/15\n",
      "329/329 [==============================] - 441s 1s/step - loss: 0.1700 - accuracy: 0.9573 - val_loss: 0.2427 - val_accuracy: 0.9342\n",
      "Epoch 6/15\n",
      "329/329 [==============================] - 432s 1s/step - loss: 0.1559 - accuracy: 0.9611 - val_loss: 0.1893 - val_accuracy: 0.9498\n",
      "Epoch 7/15\n",
      "329/329 [==============================] - 483s 1s/step - loss: 0.1321 - accuracy: 0.9665 - val_loss: 0.1814 - val_accuracy: 0.9532\n",
      "Epoch 8/15\n",
      "329/329 [==============================] - 622s 2s/step - loss: 0.1155 - accuracy: 0.9717 - val_loss: 0.1814 - val_accuracy: 0.9498\n",
      "Epoch 9/15\n",
      "329/329 [==============================] - 463s 1s/step - loss: 0.1364 - accuracy: 0.9655 - val_loss: 0.2146 - val_accuracy: 0.9457\n",
      "Epoch 10/15\n",
      "329/329 [==============================] - 345s 1s/step - loss: 0.1112 - accuracy: 0.9729 - val_loss: 0.1852 - val_accuracy: 0.9539\n",
      "Epoch 11/15\n",
      "329/329 [==============================] - 338s 1s/step - loss: 0.1042 - accuracy: 0.9742 - val_loss: 0.2078 - val_accuracy: 0.9532\n",
      "Epoch 12/15\n",
      "329/329 [==============================] - 392s 1s/step - loss: 0.1118 - accuracy: 0.9709 - val_loss: 0.2237 - val_accuracy: 0.9423\n",
      "Epoch 13/15\n",
      "329/329 [==============================] - 454s 1s/step - loss: 0.1039 - accuracy: 0.9736 - val_loss: 0.2193 - val_accuracy: 0.9471\n",
      "Epoch 14/15\n",
      "329/329 [==============================] - 546s 2s/step - loss: 0.0989 - accuracy: 0.9759 - val_loss: 0.2005 - val_accuracy: 0.9545\n",
      "Epoch 15/15\n",
      "329/329 [==============================] - 572s 2s/step - loss: 0.0867 - accuracy: 0.9792 - val_loss: 0.2263 - val_accuracy: 0.9491\n"
     ]
    }
   ],
   "source": [
    "import keras\n",
    "from keras.models import Sequential\n",
    "from keras.layers import Dense, Dropout, LSTM\n",
    "model = keras.Sequential()\n",
    "model.add(LSTM(units=100, input_shape=(X_train.shape[1],X_train.shape[2]), return_sequences=True))\n",
    "model.add(LSTM(units=50, return_sequences=True))\n",
    "model.add(Dropout(0.2))\n",
    "model.add(LSTM(units=50))\n",
    "model.add(Dense(50))\n",
    "model.add(Dropout(0.2))\n",
    "model.add(Dense(25))\n",
    "model.add(Dropout(0.2))\n",
    "model.add(Dense(y_train.shape[1], activation='softmax'))\n",
    "\n",
    "\n",
    "model.compile(loss='categorical_crossentropy', optimizer=tf.keras.optimizers.Adam(learning_rate= 1e-4), metrics=['accuracy'])\n",
    "history = model.fit(X_train, y_train, validation_data=(X_val, y_val),  batch_size=64, epochs=15)"
   ]
  },
  {
   "cell_type": "code",
   "execution_count": 81,
   "id": "c1e2d3bf",
   "metadata": {},
   "outputs": [
    {
     "data": {
      "text/plain": [
       "Text(0.5, 0, 'epoca')"
      ]
     },
     "execution_count": 81,
     "metadata": {},
     "output_type": "execute_result"
    },
    {
     "data": {
      "image/png": "[encoded data removed]",
      "text/plain": [
       "<Figure size 864x288 with 1 Axes>"
      ]
     },
     "metadata": {
      "needs_background": "light"
     },
     "output_type": "display_data"
    },
    {
     "data": {
      "image/png": "[encoded data removed]",
      "text/plain": [
       "<Figure size 864x288 with 1 Axes>"
      ]
     },
     "metadata": {
      "needs_background": "light"
     },
     "output_type": "display_data"
    }
   ],
   "source": [
    "fig, axs = plt.subplots(figsize=(12, 4))\n",
    "history_df1 = pd.DataFrame(history.history)\n",
    "history_df1.loc[:, ['loss', 'val_loss']].plot(ax=axs)\n",
    "axs.set_xlabel(\"epoca\")\n",
    "\n",
    "fig, axs = plt.subplots(figsize=(12, 4))\n",
    "history_df1.loc[:, ['accuracy', 'val_accuracy']].plot(ax=axs)\n",
    "axs.set_xlabel(\"epoca\")"
   ]
  },
  {
   "cell_type": "code",
   "execution_count": 84,
   "id": "6f0b2ecd",
   "metadata": {},
   "outputs": [
    {
     "name": "stdout",
     "output_type": "stream",
     "text": [
      "Epoch 1/15\n",
      "444/444 [==============================] - 403s 894ms/step - loss: 0.8645 - accuracy: 0.6977\n",
      "Epoch 2/15\n",
      "444/444 [==============================] - 395s 889ms/step - loss: 0.2610 - accuracy: 0.9346\n",
      "Epoch 3/15\n",
      "444/444 [==============================] - 394s 887ms/step - loss: 0.1848 - accuracy: 0.9556\n",
      "Epoch 4/15\n",
      "444/444 [==============================] - 393s 886ms/step - loss: 0.2206 - accuracy: 0.9457\n",
      "Epoch 5/15\n",
      "444/444 [==============================] - 394s 887ms/step - loss: 0.1655 - accuracy: 0.9594\n",
      "Epoch 6/15\n",
      "444/444 [==============================] - 394s 887ms/step - loss: 0.1432 - accuracy: 0.9652\n",
      "Epoch 7/15\n",
      "444/444 [==============================] - 440s 991ms/step - loss: 0.1155 - accuracy: 0.9720\n",
      "Epoch 8/15\n",
      "444/444 [==============================] - 528s 1s/step - loss: 0.1066 - accuracy: 0.9728\n",
      "Epoch 9/15\n",
      "444/444 [==============================] - 515s 1s/step - loss: 0.1011 - accuracy: 0.9740\n",
      "Epoch 10/15\n",
      "444/444 [==============================] - 560s 1s/step - loss: 0.1223 - accuracy: 0.9692\n",
      "Epoch 11/15\n",
      "444/444 [==============================] - 606s 1s/step - loss: 0.1019 - accuracy: 0.9755\n",
      "Epoch 12/15\n",
      "444/444 [==============================] - 531s 1s/step - loss: 0.1053 - accuracy: 0.9742\n",
      "Epoch 13/15\n",
      "444/444 [==============================] - 548s 1s/step - loss: 0.0817 - accuracy: 0.9794\n",
      "Epoch 14/15\n",
      "444/444 [==============================] - 872s 2s/step - loss: 0.0799 - accuracy: 0.9799\n",
      "Epoch 15/15\n",
      "444/444 [==============================] - 436s 978ms/step - loss: 0.0721 - accuracy: 0.9816\n"
     ]
    }
   ],
   "source": [
    "# Modello allenato su tutti i dati \n",
    "model = keras.Sequential()\n",
    "model.add(LSTM(units=100, input_shape=(X_trainNew.shape[1],X_trainNew.shape[2]), return_sequences=True))\n",
    "model.add(LSTM(units=50, return_sequences=True))\n",
    "model.add(Dropout(0.2))\n",
    "model.add(LSTM(units=50))\n",
    "model.add(Dense(50))\n",
    "model.add(Dropout(0.2))\n",
    "model.add(Dense(25))\n",
    "model.add(Dropout(0.2))\n",
    "model.add(Dense(y_trainNew.shape[1], activation='softmax'))\n",
    "\n",
    "# Compilazione del modello\n",
    "model.compile(loss='categorical_crossentropy', optimizer=tf.keras.optimizers.Adam(learning_rate= 1e-4), metrics=['accuracy'])\n",
    "\n",
    "history = model.fit(X_trainNew, y_trainNew,  batch_size=64, epochs=15)"
   ]
  },
  {
   "cell_type": "markdown",
   "id": "8cbbfadd",
   "metadata": {},
   "source": [
    "Second modelEvaluate second model"
   ]
  },
  {
   "cell_type": "code",
   "execution_count": 86,
   "id": "edd2635b",
   "metadata": {},
   "outputs": [
    {
     "name": "stdout",
     "output_type": "stream",
     "text": [
      "44/44 [==============================] - 5s 109ms/step - loss: 0.3458 - accuracy: 0.9344\n",
      "44/44 [==============================] - 5s 109ms/step\n"
     ]
    },
    {
     "name": "stderr",
     "output_type": "stream",
     "text": [
      "WARNING:absl:Found untraced functions such as lstm_cell_10_layer_call_fn, lstm_cell_10_layer_call_and_return_conditional_losses, lstm_cell_11_layer_call_fn, lstm_cell_11_layer_call_and_return_conditional_losses, lstm_cell_12_layer_call_fn while saving (showing 5 of 6). These functions will not be directly callable after loading.\n"
     ]
    },
    {
     "name": "stdout",
     "output_type": "stream",
     "text": [
      "INFO:tensorflow:Assets written to: modelloLSTM2\\assets\n"
     ]
    },
    {
     "name": "stderr",
     "output_type": "stream",
     "text": [
      "INFO:tensorflow:Assets written to: modelloLSTM2\\assets\n"
     ]
    },
    {
     "name": "stdout",
     "output_type": "stream",
     "text": [
      "0.9343907714491708 [0.95674117 0.99134823 0.99927902 0.98269647 0.95962509 0.97909156] [0.77037037 0.94074074 0.99692308 0.98540146 0.78089888 0.97647059] [0.78195489 0.96946565 1.         0.93103448 0.89102564 0.94050992]\n"
     ]
    },
    {
     "data": {
      "text/plain": [
       "Text(0.5, 87.0, 'Output')"
      ]
     },
     "execution_count": 86,
     "metadata": {},
     "output_type": "execute_result"
    },
    {
     "data": {
      "image/png": "[encoded data removed]",
      "text/plain": [
       "<Figure size 864x864 with 1 Axes>"
      ]
     },
     "metadata": {
      "needs_background": "light"
     },
     "output_type": "display_data"
    }
   ],
   "source": [
    "model.evaluate(X_testNew,y_testNew)\n",
    "# Test del modello allenato\n",
    "y_hat = model.predict(X_testNew) # output dell'ultimo strato del modello\n",
    "predict = np.argmax(y_hat, axis=1) # ricodifico i valori predetti\n",
    "label = np.argmax(y_testNew.values, axis=1) # ricodifico i valori veri\n",
    "\n",
    "\n",
    "model.save(\"modelloLSTM2\")\n",
    "\n",
    "\n",
    "acc_tot, acc_classes, precision_classes, recall_classes = statistical_measures(predict, label) # richiamo la funzione\n",
    "print(acc_tot, acc_classes, precision_classes, recall_classes)\n",
    "\n",
    "cm = (confusion_matrix(label, predict))\n",
    "true_labels = np.unique(Y_testNew) # creo il vettore delle classi possibili\n",
    "\n",
    "\n",
    "df_cm = pd.DataFrame(cm, index = [i for i in true_labels], columns = [i for i in true_labels]) # percetuali di quanti esempi per classe sono stati classificati correttamente\n",
    "df_cm.head()\n",
    "\n",
    "plt.figure(figsize = (12,12)) # size della figura\n",
    "sn.heatmap(df_cm, annot=True,cbar=False, linewidths=.8, square=True, xticklabels=true_labels,\n",
    "            yticklabels=true_labels ) # confusion matrix\n",
    "plt.title('Confusion Matrix', fontsize=22)\n",
    "plt.ylabel('Target', fontsize=20)\n",
    "plt.xlabel('Output', fontsize=20)"
   ]
  },
  {
   "cell_type": "code",
   "execution_count": 83,
   "id": "4d6e409c",
   "metadata": {},
   "outputs": [
    {
     "name": "stdout",
     "output_type": "stream",
     "text": [
      "Model: \"sequential_7\"\n",
      "_________________________________________________________________\n",
      " Layer (type)                Output Shape              Param #   \n",
      "=================================================================\n",
      " lstm_7 (LSTM)               (None, 200, 100)          43200     \n",
      "                                                                 \n",
      " lstm_8 (LSTM)               (None, 200, 50)           30200     \n",
      "                                                                 \n",
      " dropout_7 (Dropout)         (None, 200, 50)           0         \n",
      "                                                                 \n",
      " lstm_9 (LSTM)               (None, 50)                20200     \n",
      "                                                                 \n",
      " dense_14 (Dense)            (None, 50)                2550      \n",
      "                                                                 \n",
      " dropout_8 (Dropout)         (None, 50)                0         \n",
      "                                                                 \n",
      " dense_15 (Dense)            (None, 25)                1275      \n",
      "                                                                 \n",
      " dropout_9 (Dropout)         (None, 25)                0         \n",
      "                                                                 \n",
      " dense_16 (Dense)            (None, 6)                 156       \n",
      "                                                                 \n",
      "=================================================================\n",
      "Total params: 97,581\n",
      "Trainable params: 97,581\n",
      "Non-trainable params: 0\n",
      "_________________________________________________________________\n"
     ]
    }
   ],
   "source": [
    "model.summary()"
   ]
  },
  {
   "cell_type": "code",
   "execution_count": 80,
   "id": "3de1a419",
   "metadata": {},
   "outputs": [],
   "source": [
    "a=5"
   ]
  },
  {
   "cell_type": "code",
   "execution_count": null,
   "id": "d4c4c488",
   "metadata": {},
   "outputs": [],
   "source": []
  }
 ],
 "metadata": {
  "kernelspec": {
   "display_name": "Python 3 (ipykernel)",
   "language": "python",
   "name": "python3"
  },
  "language_info": {
   "codemirror_mode": {
    "name": "ipython",
    "version": 3
   },
   "file_extension": ".py",
   "mimetype": "text/x-python",
   "name": "python",
   "nbconvert_exporter": "python",
   "pygments_lexer": "ipython3",
   "version": "3.9.12"
  }
 },
 "nbformat": 4,
 "nbformat_minor": 5
}
