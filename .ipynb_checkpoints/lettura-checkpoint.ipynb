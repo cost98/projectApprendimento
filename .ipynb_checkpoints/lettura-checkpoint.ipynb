{
 "cells": [
  {
   "cell_type": "code",
   "execution_count": 82,
   "id": "2ec0d88f",
   "metadata": {},
   "outputs": [],
   "source": [
    "import numpy as np\n",
    "import pandas as pd\n",
    "import os\n",
    "import matplotlib.pyplot as plt\n",
    "\n",
    "from sklearn.model_selection import train_test_split\n",
    "from sklearn.metrics import mean_absolute_error\n",
    "\n",
    "import warnings\n",
    "warnings.filterwarnings('ignore')\n",
    "\n",
    "path = 'C:/Users/STRUSI Cosimo/Documents/Uni/Consegna Ramat/projectApprendimento/A_DeviceMotion_data/'"
   ]
  },
  {
   "cell_type": "code",
   "execution_count": 83,
   "id": "a5e5e517",
   "metadata": {},
   "outputs": [
    {
     "name": "stdout",
     "output_type": "stream",
     "text": [
      "       accel_x   accel_y   accel_z  accel_norm    gyro_x    gyro_y    gyro_z  \\\n",
      "time                                                                           \n",
      "0     1.036789  0.485275  0.345870    1.195847  0.316738  0.778180  1.082764   \n",
      "1     0.972504  0.692962  0.082611    1.196990  0.842032  0.424446  0.643574   \n",
      "2     0.770325  0.784256 -0.200515    1.117437 -0.138143 -0.040741  0.343563   \n",
      "3     0.752320  0.784576  0.053818    1.088320 -0.025005 -1.048717  0.035860   \n",
      "4     0.959503  1.001206 -0.102829    1.390551  0.114253 -0.912890  0.047341   \n",
      "...        ...       ...       ...         ...       ...       ...       ...   \n",
      "4749  0.251328  0.759232  0.037216    0.800615 -0.920226  0.406762 -0.383194   \n",
      "4750  0.265595  0.745987  0.076386    0.795533 -0.923594  0.231559 -0.521862   \n",
      "4751  0.181992  0.919510  0.110749    0.943867 -0.970054  0.003083 -0.621238   \n",
      "4752  0.166809  0.974457  0.083908    0.992186 -1.005371 -0.108297 -0.708937   \n",
      "4753  0.149765  0.992234  0.044785    1.004472 -0.944864  0.037529 -0.732202   \n",
      "\n",
      "      subject activity  trial  \n",
      "time                           \n",
      "0           1      dws      1  \n",
      "1           1      dws      1  \n",
      "2           1      dws      1  \n",
      "3           1      dws      1  \n",
      "4           1      dws      1  \n",
      "...       ...      ...    ...  \n",
      "4749        9      wlk      8  \n",
      "4750        9      wlk      8  \n",
      "4751        9      wlk      8  \n",
      "4752        9      wlk      8  \n",
      "4753        9      wlk      8  \n",
      "\n",
      "[1412865 rows x 10 columns]\n"
     ]
    }
   ],
   "source": [
    "# Setting up lists for importing the data.\n",
    "\n",
    "list_of_folders = os.listdir(path)\n",
    "list_of_directories = [path + i for i in list_of_folders]\n",
    "list_of_dfs = []\n",
    "\n",
    "activities = ['dws', 'ups', 'sit', 'std', 'wlk', 'jog']\n",
    "\n",
    "# Iterating through the directories and appending the dataframes for each subject in each of the trials to a list for further use.\n",
    "\n",
    "for i in list_of_directories:\n",
    "    list_of_csv = os.listdir(i)\n",
    "    for j in list_of_csv:\n",
    "        k = pd.read_csv(i + '/' + j).rename(columns={'Unnamed: 0': 'time'})\n",
    "        k['subject'] = int(j.split('_')[1].split('.')[0])\n",
    "        k['activity'] = i.split('/')[8].split('_')[0]\n",
    "        k['trial'] = int(i.split('/')[8].split('_')[1])\n",
    "        k.insert(0, 'accel_x', k['userAcceleration.x'] + k['gravity.x'])\n",
    "        k.insert(1, 'accel_y', k['userAcceleration.y'] + k['gravity.y'])\n",
    "        k.insert(2, 'accel_z', k['userAcceleration.z'] + k['gravity.z'])\n",
    "        k.insert(3, 'accel_norm', np.sqrt(k['accel_x']**2 + k['accel_y']**2 + k['accel_z']**2))\n",
    "        list_of_dfs.append(k)\n",
    "\n",
    "# Creating one big dataframe (df) from the list of all individual dataframes. Dropping unnecessary columns and renaming the ones for rotation.\n",
    "\n",
    "df = pd.concat(list_of_dfs).set_index('time')\n",
    "df = df.drop(['attitude.roll', 'attitude.pitch', 'attitude.yaw', 'gravity.x', 'gravity.y', 'gravity.z', 'userAcceleration.x', 'userAcceleration.y', 'userAcceleration.z'], axis=1)\n",
    "df = df.rename(columns={'rotationRate.x': 'gyro_x', 'rotationRate.y': 'gyro_y', 'rotationRate.z': 'gyro_z'})\n",
    "print(df)"
   ]
  },
  {
   "cell_type": "code",
   "execution_count": 84,
   "id": "14358920",
   "metadata": {},
   "outputs": [
    {
     "name": "stdout",
     "output_type": "stream",
     "text": [
      "Seg_Shape:(790, 10) | TrainData:(1135404, 10) | TestData:(277461, 10) | ('subject', 'trial'):(24, 16) | progress:100%.\r"
     ]
    },
    {
     "data": {
      "text/plain": [
       "((1135404, 10), (277461, 10))"
      ]
     },
     "execution_count": 84,
     "metadata": {},
     "output_type": "execute_result"
    }
   ],
   "source": [
    "from sensplit.dataframe_splitter import DataFrameSplitter\n",
    "\n",
    "dfs = DataFrameSplitter(method=\"trials\")\n",
    "\n",
    "train_data, test_data = dfs.train_test_split(dataset = df,\n",
    "                                             labels = (\"subject\",\"trial\"), \n",
    "                                             trial_col='subject', \n",
    "                                             train_trials=[1.,3.,4.,6.,7.,8.,10.,11.,12.,14.,15.,16.,17.,18.,19.,20.,21.,22.,24.],\n",
    "                                             verbose=2)\n",
    "train_data.shape, test_data.shape"
   ]
  },
  {
   "cell_type": "code",
   "execution_count": 85,
   "id": "704d97de",
   "metadata": {},
   "outputs": [
    {
     "name": "stdout",
     "output_type": "stream",
     "text": [
      "Seg_Shape:(790, 10) | TrainData:(840565, 10) | TestData:(294839, 10) | ('subject', 'trial'):(24, 16) | progress:100%.\r"
     ]
    },
    {
     "data": {
      "text/plain": [
       "((840565, 10), (294839, 10))"
      ]
     },
     "execution_count": 85,
     "metadata": {},
     "output_type": "execute_result"
    }
   ],
   "source": [
    "from sensplit.dataframe_splitter import DataFrameSplitter\n",
    "\n",
    "dfs = DataFrameSplitter(method=\"trials\")\n",
    "\n",
    "train_data, val_data = dfs.train_test_split(dataset = train_data,\n",
    "                                             labels = (\"subject\",\"trial\"), \n",
    "                                             trial_col='subject', \n",
    "                                             train_trials=[1.,4.,6.,8.,10.,11.,12.,14.,16.,18.,19.,20.,21.,24.],\n",
    "                                             verbose=2)\n",
    "train_data.shape, val_data.shape"
   ]
  },
  {
   "cell_type": "code",
   "execution_count": 86,
   "id": "011dd224",
   "metadata": {},
   "outputs": [
    {
     "name": "stdout",
     "output_type": "stream",
     "text": [
      "trial  activity\n",
      "1      dws          30086\n",
      "2      dws          35253\n",
      "3      ups          34454\n",
      "4      ups          41460\n",
      "5      sit         135503\n",
      "6      std         139443\n",
      "7      wlk          93510\n",
      "8      wlk          72343\n",
      "9      jog          62261\n",
      "11     dws          13257\n",
      "12     ups          17121\n",
      "13     sit          65273\n",
      "14     std          46940\n",
      "15     wlk          35394\n",
      "16     jog          18267\n",
      "Name: accel_x, dtype: int64\n",
      "trial  activity\n",
      "1      dws         10324\n",
      "2      dws         11950\n",
      "3      ups         11169\n",
      "4      ups         14509\n",
      "5      sit         45961\n",
      "6      std         43620\n",
      "7      wlk         31489\n",
      "8      wlk         23432\n",
      "9      jog         20600\n",
      "11     dws          4320\n",
      "12     ups          5227\n",
      "13     sit         19394\n",
      "14     std         13845\n",
      "15     wlk         16156\n",
      "16     jog          5465\n",
      "Name: accel_x, dtype: int64\n",
      "trial  activity\n",
      "1      dws          9836\n",
      "2      dws         11905\n",
      "3      ups         12581\n",
      "4      ups         15103\n",
      "5      sit         53193\n",
      "6      std         41753\n",
      "7      wlk         33646\n",
      "8      wlk         24596\n",
      "9      jog         21466\n",
      "11     dws          4925\n",
      "12     ups          5661\n",
      "13     sit         19454\n",
      "14     std         20826\n",
      "15     wlk         13722\n",
      "16     jog          6172\n",
      "Name: accel_x, dtype: int64\n"
     ]
    }
   ],
   "source": [
    "prova = train_data.groupby([\"trial\", \"activity\"])[\"accel_x\"].count()\n",
    "prova2 = test_data.groupby([\"trial\", \"activity\"])[\"accel_x\"].count()\n",
    "prova3 = val_data.groupby([\"trial\", \"activity\"])[\"accel_x\"].count()\n",
    "\n",
    "print(prova)\n",
    "print(prova2)\n",
    "print(prova3)"
   ]
  },
  {
   "cell_type": "code",
   "execution_count": 89,
   "id": "e4cc9a8f",
   "metadata": {},
   "outputs": [],
   "source": [
    "train_data.to_csv(\"TrainData1.csv\")\n",
    "test_data.to_csv(\"TestData1.csv\")\n",
    "val_data.to_csv(\"ValData1.csv\")"
   ]
  },
  {
   "cell_type": "code",
   "execution_count": null,
   "id": "2c825cf1",
   "metadata": {},
   "outputs": [],
   "source": []
  }
 ],
 "metadata": {
  "kernelspec": {
   "display_name": "Python 3 (ipykernel)",
   "language": "python",
   "name": "python3"
  },
  "language_info": {
   "codemirror_mode": {
    "name": "ipython",
    "version": 3
   },
   "file_extension": ".py",
   "mimetype": "text/x-python",
   "name": "python",
   "nbconvert_exporter": "python",
   "pygments_lexer": "ipython3",
   "version": "3.9.12"
  }
 },
 "nbformat": 4,
 "nbformat_minor": 5
}
