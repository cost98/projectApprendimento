{
 "cells": [
  {
   "cell_type": "code",
   "execution_count": 253,
   "id": "ca0e1f93",
   "metadata": {},
   "outputs": [],
   "source": [
    "import pandas as pd\n",
    "import seaborn as sn\n",
    "import matplotlib.pyplot as plt\n",
    "from sklearn.metrics import confusion_matrix\n",
    "import keras\n",
    "from keras.models import Sequential\n",
    "from keras.layers import Dense, Dropout, LSTM\n",
    "from sklearn.preprocessing import StandardScaler \n",
    "import numpy as np\n",
    "from scipy import stats\n",
    "import tensorflow as tf\n",
    "\n"
   ]
  },
  {
   "cell_type": "code",
   "execution_count": 254,
   "id": "e22da0d0",
   "metadata": {},
   "outputs": [
    {
     "data": {
      "text/html": [
       "<div>\n",
       "<style scoped>\n",
       "    .dataframe tbody tr th:only-of-type {\n",
       "        vertical-align: middle;\n",
       "    }\n",
       "\n",
       "    .dataframe tbody tr th {\n",
       "        vertical-align: top;\n",
       "    }\n",
       "\n",
       "    .dataframe thead th {\n",
       "        text-align: right;\n",
       "    }\n",
       "</style>\n",
       "<table border=\"1\" class=\"dataframe\">\n",
       "  <thead>\n",
       "    <tr style=\"text-align: right;\">\n",
       "      <th></th>\n",
       "      <th>Unnamed: 0</th>\n",
       "      <th>accel_x</th>\n",
       "      <th>accel_y</th>\n",
       "      <th>accel_z</th>\n",
       "      <th>accel_norm</th>\n",
       "      <th>gyro_x</th>\n",
       "      <th>gyro_y</th>\n",
       "      <th>gyro_z</th>\n",
       "      <th>subject</th>\n",
       "      <th>activity</th>\n",
       "      <th>trial</th>\n",
       "    </tr>\n",
       "  </thead>\n",
       "  <tbody>\n",
       "    <tr>\n",
       "      <th>0</th>\n",
       "      <td>0</td>\n",
       "      <td>1.036789</td>\n",
       "      <td>0.485275</td>\n",
       "      <td>0.345870</td>\n",
       "      <td>1.195847</td>\n",
       "      <td>0.316738</td>\n",
       "      <td>0.778180</td>\n",
       "      <td>1.082764</td>\n",
       "      <td>1</td>\n",
       "      <td>dws</td>\n",
       "      <td>1</td>\n",
       "    </tr>\n",
       "    <tr>\n",
       "      <th>1</th>\n",
       "      <td>1</td>\n",
       "      <td>0.972504</td>\n",
       "      <td>0.692962</td>\n",
       "      <td>0.082611</td>\n",
       "      <td>1.196990</td>\n",
       "      <td>0.842032</td>\n",
       "      <td>0.424446</td>\n",
       "      <td>0.643574</td>\n",
       "      <td>1</td>\n",
       "      <td>dws</td>\n",
       "      <td>1</td>\n",
       "    </tr>\n",
       "    <tr>\n",
       "      <th>2</th>\n",
       "      <td>2</td>\n",
       "      <td>0.770325</td>\n",
       "      <td>0.784256</td>\n",
       "      <td>-0.200515</td>\n",
       "      <td>1.117437</td>\n",
       "      <td>-0.138143</td>\n",
       "      <td>-0.040741</td>\n",
       "      <td>0.343563</td>\n",
       "      <td>1</td>\n",
       "      <td>dws</td>\n",
       "      <td>1</td>\n",
       "    </tr>\n",
       "    <tr>\n",
       "      <th>3</th>\n",
       "      <td>3</td>\n",
       "      <td>0.752320</td>\n",
       "      <td>0.784576</td>\n",
       "      <td>0.053818</td>\n",
       "      <td>1.088320</td>\n",
       "      <td>-0.025005</td>\n",
       "      <td>-1.048717</td>\n",
       "      <td>0.035860</td>\n",
       "      <td>1</td>\n",
       "      <td>dws</td>\n",
       "      <td>1</td>\n",
       "    </tr>\n",
       "    <tr>\n",
       "      <th>4</th>\n",
       "      <td>4</td>\n",
       "      <td>0.959503</td>\n",
       "      <td>1.001206</td>\n",
       "      <td>-0.102829</td>\n",
       "      <td>1.390551</td>\n",
       "      <td>0.114253</td>\n",
       "      <td>-0.912890</td>\n",
       "      <td>0.047341</td>\n",
       "      <td>1</td>\n",
       "      <td>dws</td>\n",
       "      <td>1</td>\n",
       "    </tr>\n",
       "    <tr>\n",
       "      <th>...</th>\n",
       "      <td>...</td>\n",
       "      <td>...</td>\n",
       "      <td>...</td>\n",
       "      <td>...</td>\n",
       "      <td>...</td>\n",
       "      <td>...</td>\n",
       "      <td>...</td>\n",
       "      <td>...</td>\n",
       "      <td>...</td>\n",
       "      <td>...</td>\n",
       "      <td>...</td>\n",
       "    </tr>\n",
       "    <tr>\n",
       "      <th>840560</th>\n",
       "      <td>785</td>\n",
       "      <td>-0.446106</td>\n",
       "      <td>1.299194</td>\n",
       "      <td>1.412735</td>\n",
       "      <td>1.970466</td>\n",
       "      <td>-1.099007</td>\n",
       "      <td>0.677079</td>\n",
       "      <td>-0.248915</td>\n",
       "      <td>24</td>\n",
       "      <td>jog</td>\n",
       "      <td>16</td>\n",
       "    </tr>\n",
       "    <tr>\n",
       "      <th>840561</th>\n",
       "      <td>786</td>\n",
       "      <td>0.453796</td>\n",
       "      <td>0.242035</td>\n",
       "      <td>-1.395951</td>\n",
       "      <td>1.487680</td>\n",
       "      <td>1.002112</td>\n",
       "      <td>0.500122</td>\n",
       "      <td>3.548562</td>\n",
       "      <td>24</td>\n",
       "      <td>jog</td>\n",
       "      <td>16</td>\n",
       "    </tr>\n",
       "    <tr>\n",
       "      <th>840562</th>\n",
       "      <td>787</td>\n",
       "      <td>0.663437</td>\n",
       "      <td>1.032440</td>\n",
       "      <td>-1.243103</td>\n",
       "      <td>1.746822</td>\n",
       "      <td>2.195139</td>\n",
       "      <td>0.520332</td>\n",
       "      <td>7.577656</td>\n",
       "      <td>24</td>\n",
       "      <td>jog</td>\n",
       "      <td>16</td>\n",
       "    </tr>\n",
       "    <tr>\n",
       "      <th>840563</th>\n",
       "      <td>788</td>\n",
       "      <td>0.618576</td>\n",
       "      <td>1.973877</td>\n",
       "      <td>-1.455643</td>\n",
       "      <td>2.529372</td>\n",
       "      <td>0.700754</td>\n",
       "      <td>-4.660940</td>\n",
       "      <td>8.016102</td>\n",
       "      <td>24</td>\n",
       "      <td>jog</td>\n",
       "      <td>16</td>\n",
       "    </tr>\n",
       "    <tr>\n",
       "      <th>840564</th>\n",
       "      <td>789</td>\n",
       "      <td>0.128509</td>\n",
       "      <td>4.968110</td>\n",
       "      <td>0.069259</td>\n",
       "      <td>4.970254</td>\n",
       "      <td>2.142517</td>\n",
       "      <td>-4.579572</td>\n",
       "      <td>5.868259</td>\n",
       "      <td>24</td>\n",
       "      <td>jog</td>\n",
       "      <td>16</td>\n",
       "    </tr>\n",
       "  </tbody>\n",
       "</table>\n",
       "<p>840565 rows × 11 columns</p>\n",
       "</div>"
      ],
      "text/plain": [
       "        Unnamed: 0   accel_x   accel_y   accel_z  accel_norm    gyro_x  \\\n",
       "0                0  1.036789  0.485275  0.345870    1.195847  0.316738   \n",
       "1                1  0.972504  0.692962  0.082611    1.196990  0.842032   \n",
       "2                2  0.770325  0.784256 -0.200515    1.117437 -0.138143   \n",
       "3                3  0.752320  0.784576  0.053818    1.088320 -0.025005   \n",
       "4                4  0.959503  1.001206 -0.102829    1.390551  0.114253   \n",
       "...            ...       ...       ...       ...         ...       ...   \n",
       "840560         785 -0.446106  1.299194  1.412735    1.970466 -1.099007   \n",
       "840561         786  0.453796  0.242035 -1.395951    1.487680  1.002112   \n",
       "840562         787  0.663437  1.032440 -1.243103    1.746822  2.195139   \n",
       "840563         788  0.618576  1.973877 -1.455643    2.529372  0.700754   \n",
       "840564         789  0.128509  4.968110  0.069259    4.970254  2.142517   \n",
       "\n",
       "          gyro_y    gyro_z  subject activity  trial  \n",
       "0       0.778180  1.082764        1      dws      1  \n",
       "1       0.424446  0.643574        1      dws      1  \n",
       "2      -0.040741  0.343563        1      dws      1  \n",
       "3      -1.048717  0.035860        1      dws      1  \n",
       "4      -0.912890  0.047341        1      dws      1  \n",
       "...          ...       ...      ...      ...    ...  \n",
       "840560  0.677079 -0.248915       24      jog     16  \n",
       "840561  0.500122  3.548562       24      jog     16  \n",
       "840562  0.520332  7.577656       24      jog     16  \n",
       "840563 -4.660940  8.016102       24      jog     16  \n",
       "840564 -4.579572  5.868259       24      jog     16  \n",
       "\n",
       "[840565 rows x 11 columns]"
      ]
     },
     "execution_count": 254,
     "metadata": {},
     "output_type": "execute_result"
    }
   ],
   "source": [
    "train = pd.read_csv(\"C:/Users/STRUSI Cosimo/Documents/Uni/Consegna Ramat/projectApprendimento/TrainData1.csv\")\n",
    "test = pd.read_csv(\"C:/Users/STRUSI Cosimo/Documents/Uni/Consegna Ramat/projectApprendimento/TestData1.csv\")\n",
    "val = pd.read_csv(\"C:/Users/STRUSI Cosimo/Documents/Uni/Consegna Ramat/projectApprendimento/ValData1.csv\")\n",
    "train\n",
    "\n",
    "\n"
   ]
  },
  {
   "cell_type": "markdown",
   "id": "240615c7",
   "metadata": {},
   "source": [
    "Preprocessing : scalatura dati di training e test"
   ]
  },
  {
   "cell_type": "code",
   "execution_count": 255,
   "id": "6f06e202",
   "metadata": {},
   "outputs": [],
   "source": [
    "scale_columns = ['accel_x','accel_y','accel_z','accel_norm',\n",
    "'gyro_x','gyro_y','gyro_z']\n",
    "\n",
    "scaler = StandardScaler() \n",
    "\n",
    "train_sc = train[scale_columns]\n",
    "test_sc = test[scale_columns]\n",
    "val_sc = val[scale_columns]\n",
    "\n",
    "scaler = scaler.fit(train_sc[scale_columns]) # calcola il massimo e il minimo\n",
    "scaler.fit(train_sc) \n",
    "train_sc = scaler.transform(train_sc) \n",
    "test_sc = scaler.transform(test_sc)\n",
    "val_sc = scaler.transform(val_sc)\n",
    "\n",
    "train_sc =pd.DataFrame(train_sc,columns = scale_columns)\n",
    "test_sc =pd.DataFrame(test_sc,columns = scale_columns)\n",
    "val_sc =pd.DataFrame(val_sc,columns = scale_columns)\n",
    "\n",
    "train_sc['subject'] = train['subject']\n",
    "test_sc['subject'] = test['subject']\n",
    "val_sc['subject'] = val['subject']\n",
    "\n",
    "train_sc['activity'] = train['activity']\n",
    "test_sc['activity'] = test['activity']\n",
    "val_sc['activity'] = val['activity']"
   ]
  },
  {
   "cell_type": "markdown",
   "id": "54ed2c6a",
   "metadata": {},
   "source": [
    "Preprocessing - create timeseries"
   ]
  },
  {
   "cell_type": "code",
   "execution_count": 256,
   "id": "10d04e44",
   "metadata": {},
   "outputs": [],
   "source": [
    "# funzione per organizzare il dataset\n",
    "def create_dataset(X, y, time_steps, step):\n",
    "    Xs, ys = [], [] # inizializzo due liste vuote\n",
    "    if step !=0:\n",
    "      for i in range(0, len(X) - time_steps, step): # ciclo for che parte da zero alla lughezza di (X-time_steps), con passo di step\n",
    "          v = X.iloc[i:(i + time_steps)].values # del DataFrame prendo i valori che vanno da i fino ad i+time_steps\n",
    "          labels = y.iloc[i: i + time_steps] # stessa cosa con le labels\n",
    "          Xs.append(v) # aggiunge un item in coda alla lista\n",
    "          ys.append(stats.mode(labels)[0][0]) # ad ogni finestra corrisponderà un valore di una classe\n",
    "    else:\n",
    "      for i in range(0, len(X) - time_steps, time_steps): # ciclo for che parte da zero alla lughezza di (X-time_steps), con passo di  time_steps\n",
    "          v = X.iloc[i:(i + time_steps)].values # del DataFrame prendo i valori che vanno da i fino ad i+time_steps\n",
    "          labels = y.iloc[i: i + time_steps] # stessa cosa con le labels\n",
    "          Xs.append(v) # aggiunge un item in coda alla lista\n",
    "          ys.append(stats.mode(labels)[0][0]) # ad ogni finestra corrisponderà un valore di una classe\n",
    "    return np.array(Xs), np.array(ys).reshape(-1, 1) # output della funzione resistuisce Xs come un array e Ys come un vettore\n",
    "\n",
    "train = train_sc\n",
    "test = test_sc\n",
    "val = val_sc\n",
    "\n",
    "TIME_STEPS = 200\n",
    "STEP = 40\n",
    "# richiamo la funzione per creare X_train e Y_train\n",
    "X_train, Y_train = create_dataset(\n",
    "    train[ ['accel_x','accel_y','accel_z','accel_norm',\n",
    "'gyro_x','gyro_y','gyro_z']],\n",
    "    train.activity,\n",
    "    TIME_STEPS,\n",
    "    STEP\n",
    ")\n",
    "\n",
    "TIME_STEPS = 200\n",
    "STEP = 0\n",
    "# richiamo la funzione per creare X_val e Y_val\n",
    "\n",
    "X_val, Y_val = create_dataset(\n",
    "    val[ ['accel_x','accel_y','accel_z','accel_norm',\n",
    "'gyro_x','gyro_y','gyro_z']],\n",
    "    val.activity,\n",
    "    TIME_STEPS,\n",
    "    STEP\n",
    ")\n",
    "\n",
    "TIME_STEPS = 200\n",
    "STEP = 0\n",
    "# richiamo la funzione per creare X_test e Y_test\n",
    "\n",
    "X_test, Y_test = create_dataset(\n",
    "    test[ ['accel_x','accel_y','accel_z','accel_norm',\n",
    "'gyro_x','gyro_y','gyro_z']],\n",
    "    test.activity,\n",
    "    TIME_STEPS,\n",
    "    STEP\n",
    ")"
   ]
  },
  {
   "cell_type": "markdown",
   "id": "94fd43f4",
   "metadata": {},
   "source": [
    "Preprocessing - one hot encoding"
   ]
  },
  {
   "cell_type": "code",
   "execution_count": 257,
   "id": "69e6f78d",
   "metadata": {},
   "outputs": [
    {
     "data": {
      "text/plain": [
       "(22484, 6)"
      ]
     },
     "execution_count": 257,
     "metadata": {},
     "output_type": "execute_result"
    }
   ],
   "source": [
    "y_train = Y_train.reshape((-1))\n",
    "y_test = Y_test.reshape((-1))\n",
    "y_val = Y_val.reshape((-1))\n",
    "\n",
    "# One Hot encoding \n",
    "y_train = pd.get_dummies(y_train)\n",
    "y_test = pd.get_dummies(y_test)\n",
    "y_val = pd.get_dummies(y_val)\n",
    "\n",
    "X_trainNew = np.vstack([X_train, X_val]) # generate an error\n",
    "X_trainNew.shape\n",
    "y_trainNew  = np.vstack([y_train, y_val]) # generate an error\n",
    "y_trainNew.shape"
   ]
  },
  {
   "cell_type": "markdown",
   "id": "28baa11d",
   "metadata": {},
   "source": [
    "First model"
   ]
  },
  {
   "cell_type": "code",
   "execution_count": 258,
   "id": "54ba0f2e",
   "metadata": {},
   "outputs": [
    {
     "name": "stdout",
     "output_type": "stream",
     "text": [
      "Epoch 1/15\n",
      "329/329 [==============================] - 246s 672ms/step - loss: 1.3003 - accuracy: 0.5459 - val_loss: 0.8013 - val_accuracy: 0.7239\n",
      "Epoch 2/15\n",
      "329/329 [==============================] - 178s 540ms/step - loss: 0.7821 - accuracy: 0.7161 - val_loss: 0.5662 - val_accuracy: 0.7924\n",
      "Epoch 3/15\n",
      "329/329 [==============================] - 291s 885ms/step - loss: 0.5049 - accuracy: 0.8252 - val_loss: 0.3878 - val_accuracy: 0.8894\n",
      "Epoch 4/15\n",
      "329/329 [==============================] - 306s 929ms/step - loss: 0.3943 - accuracy: 0.8747 - val_loss: 0.4895 - val_accuracy: 0.8270\n",
      "Epoch 5/15\n",
      "329/329 [==============================] - 299s 905ms/step - loss: 0.3390 - accuracy: 0.8985 - val_loss: 0.3199 - val_accuracy: 0.9098\n",
      "Epoch 6/15\n",
      "329/329 [==============================] - 292s 885ms/step - loss: 0.2976 - accuracy: 0.9189 - val_loss: 0.2692 - val_accuracy: 0.9294\n",
      "Epoch 7/15\n",
      "329/329 [==============================] - 239s 726ms/step - loss: 0.2665 - accuracy: 0.9285 - val_loss: 0.2461 - val_accuracy: 0.9349\n",
      "Epoch 8/15\n",
      "329/329 [==============================] - 219s 664ms/step - loss: 0.2509 - accuracy: 0.9365 - val_loss: 0.2484 - val_accuracy: 0.9403\n",
      "Epoch 9/15\n",
      "329/329 [==============================] - 259s 787ms/step - loss: 0.2308 - accuracy: 0.9410 - val_loss: 0.2532 - val_accuracy: 0.9376\n",
      "Epoch 10/15\n",
      "329/329 [==============================] - 224s 679ms/step - loss: 0.2175 - accuracy: 0.9462 - val_loss: 0.2803 - val_accuracy: 0.9355\n",
      "Epoch 11/15\n",
      "329/329 [==============================] - 214s 650ms/step - loss: 0.2399 - accuracy: 0.9410 - val_loss: 0.2519 - val_accuracy: 0.9450\n",
      "Epoch 12/15\n",
      "329/329 [==============================] - 217s 659ms/step - loss: 0.2179 - accuracy: 0.9467 - val_loss: 0.2123 - val_accuracy: 0.9512\n",
      "Epoch 13/15\n",
      "329/329 [==============================] - 231s 701ms/step - loss: 0.1806 - accuracy: 0.9588 - val_loss: 0.2099 - val_accuracy: 0.9505\n",
      "Epoch 14/15\n",
      "329/329 [==============================] - 237s 719ms/step - loss: 0.1809 - accuracy: 0.9583 - val_loss: 0.2060 - val_accuracy: 0.9566\n",
      "Epoch 15/15\n",
      "329/329 [==============================] - 188s 572ms/step - loss: 0.1811 - accuracy: 0.9575 - val_loss: 0.2327 - val_accuracy: 0.9417\n"
     ]
    }
   ],
   "source": [
    "# Modello\n",
    "model = keras.Sequential()\n",
    "model.add(LSTM(100, input_shape=(X_train.shape[1],X_train.shape[2])))\n",
    "model.add(Dropout(0.5))\n",
    "model.add(Dense(100,activation='relu'))\n",
    "model.add(Dense(y_train.shape[1], activation='softmax'))\n",
    "\n",
    "# Compilazione del modello\n",
    "model.compile(loss='categorical_crossentropy', optimizer=tf.keras.optimizers.Adam(learning_rate= 1e-4), metrics=['accuracy'])\n",
    "\n",
    "history = model.fit(X_train, y_train, validation_data=(X_val, y_val),  batch_size=64, epochs=15)"
   ]
  },
  {
   "cell_type": "code",
   "execution_count": 259,
   "id": "d63745b8",
   "metadata": {},
   "outputs": [
    {
     "name": "stdout",
     "output_type": "stream",
     "text": [
      "Model: \"sequential_34\"\n",
      "_________________________________________________________________\n",
      " Layer (type)                Output Shape              Param #   \n",
      "=================================================================\n",
      " lstm_58 (LSTM)              (None, 100)               43200     \n",
      "                                                                 \n",
      " dropout_56 (Dropout)        (None, 100)               0         \n",
      "                                                                 \n",
      " dense_77 (Dense)            (None, 100)               10100     \n",
      "                                                                 \n",
      " dense_78 (Dense)            (None, 6)                 606       \n",
      "                                                                 \n",
      "=================================================================\n",
      "Total params: 53,906\n",
      "Trainable params: 53,906\n",
      "Non-trainable params: 0\n",
      "_________________________________________________________________\n"
     ]
    }
   ],
   "source": [
    "model.summary()"
   ]
  },
  {
   "cell_type": "code",
   "execution_count": 260,
   "id": "56100d14",
   "metadata": {},
   "outputs": [
    {
     "data": {
      "text/plain": [
       "Text(0.5, 0, 'epoca')"
      ]
     },
     "execution_count": 260,
     "metadata": {},
     "output_type": "execute_result"
    },
    {
     "data": {
      "image/png": "[encoded data removed]",
      "text/plain": [
       "<Figure size 864x288 with 1 Axes>"
      ]
     },
     "metadata": {
      "needs_background": "light"
     },
     "output_type": "display_data"
    },
    {
     "data": {
      "image/png": "[encoded data removed]",
      "text/plain": [
       "<Figure size 864x288 with 1 Axes>"
      ]
     },
     "metadata": {
      "needs_background": "light"
     },
     "output_type": "display_data"
    }
   ],
   "source": [
    "fig, axs = plt.subplots(figsize=(12, 4))\n",
    "\n",
    "history_df1 = pd.DataFrame(history.history)\n",
    "history_df1.loc[:, ['loss', 'val_loss']].plot(ax=axs)\n",
    "fig, axs = plt.subplots(figsize=(12, 4))\n",
    "history_df1.loc[:, ['accuracy', 'val_accuracy']].plot(ax=axs)\n",
    "\n",
    "axs.set_xlabel(\"epoca\")"
   ]
  },
  {
   "cell_type": "code",
   "execution_count": 261,
   "id": "3fb61d60",
   "metadata": {},
   "outputs": [
    {
     "name": "stdout",
     "output_type": "stream",
     "text": [
      "Epoch 1/15\n",
      "352/352 [==============================] - 294s 790ms/step - loss: 1.2968 - accuracy: 0.5184\n",
      "Epoch 2/15\n",
      "352/352 [==============================] - 238s 677ms/step - loss: 0.7390 - accuracy: 0.7242\n",
      "Epoch 3/15\n",
      "352/352 [==============================] - 294s 827ms/step - loss: 0.5107 - accuracy: 0.8272\n",
      "Epoch 4/15\n",
      "352/352 [==============================] - 293s 833ms/step - loss: 0.3406 - accuracy: 0.9060\n",
      "Epoch 5/15\n",
      "352/352 [==============================] - 275s 781ms/step - loss: 0.2834 - accuracy: 0.9237\n",
      "Epoch 6/15\n",
      "352/352 [==============================] - 532s 2s/step - loss: 0.2497 - accuracy: 0.9335\n",
      "Epoch 7/15\n",
      "352/352 [==============================] - 365s 1s/step - loss: 0.2201 - accuracy: 0.9438\n",
      "Epoch 8/15\n",
      "352/352 [==============================] - 332s 940ms/step - loss: 0.2711 - accuracy: 0.9287\n",
      "Epoch 9/15\n",
      "352/352 [==============================] - 298s 847ms/step - loss: 0.2894 - accuracy: 0.9229\n",
      "Epoch 10/15\n",
      "352/352 [==============================] - 325s 924ms/step - loss: 0.1997 - accuracy: 0.9508\n",
      "Epoch 11/15\n",
      "352/352 [==============================] - 374s 1s/step - loss: 0.1816 - accuracy: 0.9558\n",
      "Epoch 12/15\n",
      "352/352 [==============================] - 315s 895ms/step - loss: 0.1801 - accuracy: 0.9560\n",
      "Epoch 13/15\n",
      "352/352 [==============================] - 359s 1s/step - loss: 0.1869 - accuracy: 0.9536\n",
      "Epoch 14/15\n",
      "352/352 [==============================] - 272s 772ms/step - loss: 0.2323 - accuracy: 0.9484\n",
      "Epoch 15/15\n",
      "352/352 [==============================] - 312s 886ms/step - loss: 0.1658 - accuracy: 0.9604\n"
     ]
    }
   ],
   "source": [
    "# Modello allenato su tutti i dati di training e validation\n",
    "model = keras.Sequential()\n",
    "model.add(LSTM(100, input_shape=(X_trainNew.shape[1],X_trainNew.shape[2])))\n",
    "model.add(Dropout(0.5))\n",
    "model.add(Dense(100,activation='relu'))\n",
    "model.add(Dense(y_trainNew.shape[1], activation='softmax'))\n",
    "\n",
    "# Compilazione del modello\n",
    "model.compile(loss='categorical_crossentropy', optimizer=tf.keras.optimizers.Adam(learning_rate= 1e-4), metrics=['accuracy'])\n",
    "\n",
    "history = model.fit(X_trainNew, y_trainNew,  batch_size=64, epochs=15)"
   ]
  },
  {
   "cell_type": "markdown",
   "id": "d8f37f59",
   "metadata": {},
   "source": [
    "First model - Evaluate first model"
   ]
  },
  {
   "cell_type": "code",
   "execution_count": 262,
   "id": "29f011c3",
   "metadata": {},
   "outputs": [
    {
     "name": "stdout",
     "output_type": "stream",
     "text": [
      "44/44 [==============================] - 21s 199ms/step - loss: 0.2976 - accuracy: 0.9308\n",
      "44/44 [==============================] - 12s 151ms/step\n"
     ]
    },
    {
     "name": "stderr",
     "output_type": "stream",
     "text": [
      "WARNING:absl:Found untraced functions such as lstm_cell_59_layer_call_fn, lstm_cell_59_layer_call_and_return_conditional_losses while saving (showing 2 of 2). These functions will not be directly callable after loading.\n"
     ]
    },
    {
     "name": "stdout",
     "output_type": "stream",
     "text": [
      "INFO:tensorflow:Assets written to: modelloLSTM1\\assets\n"
     ]
    },
    {
     "name": "stderr",
     "output_type": "stream",
     "text": [
      "INFO:tensorflow:Assets written to: modelloLSTM1\\assets\n"
     ]
    },
    {
     "name": "stdout",
     "output_type": "stream",
     "text": [
      "0.9307858687815429 [0.9480894  0.99711608 0.99711608 0.98269647 0.9704398  0.96611391] [0.74796748 0.98473282 0.98780488 0.99626866 0.87096774 0.90052356] [0.69172932 0.98473282 1.         0.92068966 0.86538462 0.97450425]\n"
     ]
    },
    {
     "data": {
      "text/plain": [
       "Text(0.5, 87.0, 'Output')"
      ]
     },
     "execution_count": 262,
     "metadata": {},
     "output_type": "execute_result"
    },
    {
     "data": {
      "image/png": "[encoded data removed]",
      "text/plain": [
       "<Figure size 864x864 with 1 Axes>"
      ]
     },
     "metadata": {
      "needs_background": "light"
     },
     "output_type": "display_data"
    }
   ],
   "source": [
    "model.evaluate(X_test,y_test)\n",
    "\n",
    "# Test del modello allenato\n",
    "y_hat = model.predict(X_test) # output dell'ultimo strato del modello\n",
    "predict = np.argmax(y_hat, axis=1) # ricodifico i valori predetti\n",
    "label = np.argmax(y_test.values, axis=1) # ricodifico i valori veri\n",
    "\n",
    "\n",
    "model.save(\"modelloLSTM1\")\n",
    "\n",
    "\n",
    "\n",
    "def statistical_measures(predict, label):  \n",
    "  cnf_matrix = confusion_matrix(label, predict)\n",
    "  # falsi positivi\n",
    "  FP = cnf_matrix.sum(axis=0) - np.diag(cnf_matrix) \n",
    "  # falsi negativi\n",
    "  FN = cnf_matrix.sum(axis=1) - np.diag(cnf_matrix)\n",
    "  # veri positivi\n",
    "  TP = np.diag(cnf_matrix)\n",
    "  # veri negativi\n",
    "  TN = cnf_matrix.sum() - (FP + FN + TP)\n",
    "  # assegno il tipo di variabile\n",
    "  FP = FP.astype(float)\n",
    "  FN = FN.astype(float)\n",
    "  TP = TP.astype(float)\n",
    "  TN = TN.astype(float)\n",
    "  # Sensitivity, hit rate, recall, or true positive rate\n",
    "  TPR = TP / (TP + FN)\n",
    "  # Specificity or true negative rate\n",
    "  TNR = TN / (TN + FP)\n",
    "  # Precision or positive predictive value\n",
    "  PPV = TP / (TP + FP)\n",
    "  # Negative predictive value\n",
    "  NPV = TN / (TN + FN)\n",
    "  # Fall out or false positive rate\n",
    "  FPR = FP / (FP + TN)\n",
    "  # False negative rate\n",
    "  FNR = FN / (TP + FN)\n",
    "  # False discovery rate\n",
    "  FDR = FP / (TP + FP)\n",
    "  # Overall accuracy for each class\n",
    "  ACC = (TP + TN) / (TP + FP + FN + TN)\n",
    "  ACC_TOT = (cnf_matrix.diagonal()).sum() / len(label)\n",
    "  return ACC_TOT, ACC, PPV, TPR # output\n",
    "\n",
    "acc_tot, acc_classes, precision_classes, recall_classes = statistical_measures(predict, label) # richiamo la funzione\n",
    "print(acc_tot, acc_classes, precision_classes, recall_classes)\n",
    "\n",
    "cm = (confusion_matrix(label, predict))\n",
    "true_labels = np.unique(Y_test) # creo il vettore delle classi possibili\n",
    "\n",
    "\n",
    "\n",
    "\n",
    "df_cm = pd.DataFrame(cm/np.sum(cm, axis=1), index = [i for i in true_labels], columns = [i for i in true_labels]) # percetuali di quanti esempi per classe sono stati classificati correttamente\n",
    "df_cm.head()\n",
    "\n",
    "plt.figure(figsize = (12,12)) # size della figura\n",
    "sn.heatmap(df_cm, annot=True, fmt='.2%',cbar=False, linewidths=.8, square=True, xticklabels=true_labels,\n",
    "            yticklabels=true_labels ) # confusion matrix\n",
    "plt.title('Confusion Matrix', fontsize=22)\n",
    "plt.ylabel('Target', fontsize=20)\n",
    "plt.xlabel('Output', fontsize=20)"
   ]
  },
  {
   "cell_type": "code",
   "execution_count": null,
   "id": "472345d7",
   "metadata": {},
   "outputs": [],
   "source": [
    "y_hat = model.predict(X_trainNew) # output dell'ultimo strato del modello\n",
    "predict = np.argmax(y_hat, axis=1) # ricodifico i valori predetti\n",
    "label = np.argmax(y_trainNew, axis=1) # ricodifico i valori veri\n",
    "\n",
    "acc_tot, acc_classes, precision_classes, recall_classes = statistical_measures(predict, label) # richiamo la funzione\n",
    "print(acc_tot, acc_classes, precision_classes, recall_classes)\n"
   ]
  },
  {
   "cell_type": "markdown",
   "id": "7a16d65d",
   "metadata": {},
   "source": [
    "Second model"
   ]
  },
  {
   "cell_type": "code",
   "execution_count": 248,
   "id": "f3b5991e",
   "metadata": {
    "scrolled": false
   },
   "outputs": [
    {
     "name": "stdout",
     "output_type": "stream",
     "text": [
      "Epoch 1/15\n",
      "329/329 [==============================] - 302s 868ms/step - loss: 0.9659 - accuracy: 0.6584 - val_loss: 0.4353 - val_accuracy: 0.8650\n",
      "Epoch 2/15\n",
      "329/329 [==============================] - 276s 839ms/step - loss: 0.3241 - accuracy: 0.9130 - val_loss: 0.2794 - val_accuracy: 0.9281\n",
      "Epoch 3/15\n",
      "329/329 [==============================] - 269s 815ms/step - loss: 0.2403 - accuracy: 0.9441 - val_loss: 0.3160 - val_accuracy: 0.9104\n",
      "Epoch 4/15\n",
      "329/329 [==============================] - 269s 816ms/step - loss: 0.1758 - accuracy: 0.9618 - val_loss: 0.3010 - val_accuracy: 0.9145\n",
      "Epoch 5/15\n",
      "329/329 [==============================] - 264s 804ms/step - loss: 0.1572 - accuracy: 0.9654 - val_loss: 0.2794 - val_accuracy: 0.9301\n",
      "Epoch 6/15\n",
      "329/329 [==============================] - 270s 821ms/step - loss: 0.1326 - accuracy: 0.9688 - val_loss: 0.2711 - val_accuracy: 0.9322\n",
      "Epoch 7/15\n",
      "329/329 [==============================] - 260s 790ms/step - loss: 0.1082 - accuracy: 0.9754 - val_loss: 0.3079 - val_accuracy: 0.9213\n",
      "Epoch 8/15\n",
      "329/329 [==============================] - 281s 854ms/step - loss: 0.1041 - accuracy: 0.9746 - val_loss: 0.2814 - val_accuracy: 0.9369\n",
      "Epoch 9/15\n",
      "329/329 [==============================] - 276s 839ms/step - loss: 0.1068 - accuracy: 0.9742 - val_loss: 0.3237 - val_accuracy: 0.9281\n",
      "Epoch 10/15\n",
      "329/329 [==============================] - 279s 848ms/step - loss: 0.0866 - accuracy: 0.9791 - val_loss: 0.3764 - val_accuracy: 0.9166\n",
      "Epoch 11/15\n",
      "329/329 [==============================] - 278s 846ms/step - loss: 0.0891 - accuracy: 0.9773 - val_loss: 0.2837 - val_accuracy: 0.9362\n",
      "Epoch 12/15\n",
      "329/329 [==============================] - 272s 826ms/step - loss: 0.0803 - accuracy: 0.9789 - val_loss: 0.3232 - val_accuracy: 0.9308\n",
      "Epoch 13/15\n",
      "329/329 [==============================] - 271s 823ms/step - loss: 0.1007 - accuracy: 0.9757 - val_loss: 0.2679 - val_accuracy: 0.9389\n",
      "Epoch 14/15\n",
      "329/329 [==============================] - 271s 823ms/step - loss: 0.0779 - accuracy: 0.9807 - val_loss: 0.3118 - val_accuracy: 0.9417\n",
      "Epoch 15/15\n",
      "329/329 [==============================] - 285s 868ms/step - loss: 0.0932 - accuracy: 0.9765 - val_loss: 0.2909 - val_accuracy: 0.9423\n"
     ]
    }
   ],
   "source": [
    "import keras\n",
    "from keras.models import Sequential\n",
    "from keras.layers import Dense, Dropout, LSTM\n",
    "model = keras.Sequential()\n",
    "model.add(LSTM(units=100, input_shape=(X_train.shape[1],X_train.shape[2]), return_sequences=True))\n",
    "model.add(LSTM(units=50, return_sequences=True))\n",
    "model.add(Dropout(0.2))\n",
    "model.add(LSTM(units=50))\n",
    "model.add(Dense(50))\n",
    "model.add(Dropout(0.2))\n",
    "model.add(Dense(25))\n",
    "model.add(Dropout(0.2))\n",
    "model.add(Dense(y_train.shape[1], activation='softmax'))\n",
    "\n",
    "\n",
    "model.compile(loss='categorical_crossentropy', optimizer=tf.keras.optimizers.Adam(learning_rate= 1e-4), metrics=['accuracy'])\n",
    "history = model.fit(X_train, y_train, validation_data=(X_val, y_val),  batch_size=64, epochs=15)"
   ]
  },
  {
   "cell_type": "code",
   "execution_count": 249,
   "id": "c1e2d3bf",
   "metadata": {},
   "outputs": [
    {
     "data": {
      "text/plain": [
       "Text(0.5, 0, 'epoca')"
      ]
     },
     "execution_count": 249,
     "metadata": {},
     "output_type": "execute_result"
    },
    {
     "data": {
      "image/png": "[encoded data removed]",
      "text/plain": [
       "<Figure size 864x288 with 1 Axes>"
      ]
     },
     "metadata": {
      "needs_background": "light"
     },
     "output_type": "display_data"
    }
   ],
   "source": [
    "fig, axs = plt.subplots(figsize=(12, 4))\n",
    "\n",
    "history_df = pd.DataFrame(history.history)\n",
    "history_df.loc[:, ['loss', 'val_loss']].plot(ax=axs)\n",
    "history_df.loc[:, ['accuracy', 'val_accuracy']].plot(ax=axs)\n",
    "\n",
    "axs.set_xlabel(\"epoca\")"
   ]
  },
  {
   "cell_type": "code",
   "execution_count": 250,
   "id": "6f0b2ecd",
   "metadata": {},
   "outputs": [
    {
     "name": "stdout",
     "output_type": "stream",
     "text": [
      "Epoch 1/15\n",
      "352/352 [==============================] - 132s 355ms/step - loss: 1.2063 - accuracy: 0.5682\n",
      "Epoch 2/15\n",
      "352/352 [==============================] - 126s 357ms/step - loss: 0.7619 - accuracy: 0.7178\n",
      "Epoch 3/15\n",
      "352/352 [==============================] - 124s 352ms/step - loss: 0.5809 - accuracy: 0.7808\n",
      "Epoch 4/15\n",
      "352/352 [==============================] - 125s 355ms/step - loss: 0.4113 - accuracy: 0.8670\n",
      "Epoch 5/15\n",
      "352/352 [==============================] - 121s 343ms/step - loss: 0.3324 - accuracy: 0.9006\n",
      "Epoch 6/15\n",
      "352/352 [==============================] - 115s 328ms/step - loss: 0.2964 - accuracy: 0.9133\n",
      "Epoch 7/15\n",
      "352/352 [==============================] - 120s 342ms/step - loss: 0.3718 - accuracy: 0.8791\n",
      "Epoch 8/15\n",
      "352/352 [==============================] - 115s 328ms/step - loss: 0.3094 - accuracy: 0.9020\n",
      "Epoch 9/15\n",
      "352/352 [==============================] - 127s 360ms/step - loss: 0.2971 - accuracy: 0.9098\n",
      "Epoch 10/15\n",
      "352/352 [==============================] - 119s 337ms/step - loss: 0.2414 - accuracy: 0.9305\n",
      "Epoch 11/15\n",
      "352/352 [==============================] - 128s 363ms/step - loss: 0.2306 - accuracy: 0.9332\n",
      "Epoch 12/15\n",
      "352/352 [==============================] - 124s 351ms/step - loss: 0.2216 - accuracy: 0.9403\n",
      "Epoch 13/15\n",
      "352/352 [==============================] - 122s 347ms/step - loss: 0.1706 - accuracy: 0.9536\n",
      "Epoch 14/15\n",
      "352/352 [==============================] - 118s 336ms/step - loss: 0.2848 - accuracy: 0.9133\n",
      "Epoch 15/15\n",
      "352/352 [==============================] - 114s 325ms/step - loss: 0.4024 - accuracy: 0.8973\n"
     ]
    }
   ],
   "source": [
    "# Modello allenato su tutti i dati \n",
    "model = keras.Sequential()\n",
    "model.add(LSTM(units=100, input_shape=(X_train.shape[1],X_train.shape[2]), return_sequences=True))\n",
    "model.add(LSTM(units=50, return_sequences=True))\n",
    "model.add(Dropout(0.2))\n",
    "model.add(LSTM(units=50))\n",
    "model.add(Dense(50))\n",
    "model.add(Dropout(0.2))\n",
    "model.add(Dense(25))\n",
    "model.add(Dropout(0.2))\n",
    "model.add(Dense(y_train.shape[1], activation='softmax'))\n",
    "\n",
    "# Compilazione del modello\n",
    "model.compile(loss='categorical_crossentropy', optimizer=tf.keras.optimizers.Adam(learning_rate= 1e-4), metrics=['accuracy'])\n",
    "\n",
    "history = model.fit(X_trainNew, y_trainNew,  batch_size=64, epochs=15)"
   ]
  },
  {
   "cell_type": "markdown",
   "id": "af0b7c01",
   "metadata": {},
   "source": [
    "Second modelEvaluate second model"
   ]
  },
  {
   "cell_type": "code",
   "execution_count": 251,
   "id": "15429936",
   "metadata": {},
   "outputs": [
    {
     "name": "stdout",
     "output_type": "stream",
     "text": [
      "44/44 [==============================] - 6s 61ms/step - loss: 0.4085 - accuracy: 0.8753\n",
      "44/44 [==============================] - 3s 61ms/step\n"
     ]
    },
    {
     "name": "stderr",
     "output_type": "stream",
     "text": [
      "WARNING:absl:Found untraced functions such as lstm_cell_57_layer_call_fn, lstm_cell_57_layer_call_and_return_conditional_losses while saving (showing 2 of 2). These functions will not be directly callable after loading.\n"
     ]
    },
    {
     "name": "stdout",
     "output_type": "stream",
     "text": [
      "INFO:tensorflow:Assets written to: modelloLSTM2\\assets\n"
     ]
    },
    {
     "name": "stderr",
     "output_type": "stream",
     "text": [
      "INFO:tensorflow:Assets written to: modelloLSTM2\\assets\n"
     ]
    },
    {
     "name": "stdout",
     "output_type": "stream",
     "text": [
      "0.875270367700072 [0.93366979 0.97188176 0.9963951  0.9776496  0.95241528 0.9185292 ] [0.67826087 0.96       0.98480243 0.96750903 0.79605263 0.78985507] [0.58646617 0.73282443 1.         0.92413793 0.77564103 0.92634561]\n"
     ]
    },
    {
     "data": {
      "text/plain": [
       "Text(0.5, 87.0, 'Output')"
      ]
     },
     "execution_count": 251,
     "metadata": {},
     "output_type": "execute_result"
    },
    {
     "data": {
      "image/png": "[encoded data removed]",
      "text/plain": [
       "<Figure size 864x864 with 1 Axes>"
      ]
     },
     "metadata": {
      "needs_background": "light"
     },
     "output_type": "display_data"
    }
   ],
   "source": [
    "model.evaluate(X_test,y_test)\n",
    "# Test del modello allenato\n",
    "y_hat = model.predict(X_test) # output dell'ultimo strato del modello\n",
    "predict = np.argmax(y_hat, axis=1) # ricodifico i valori predetti\n",
    "label = np.argmax(y_test.values, axis=1) # ricodifico i valori veri\n",
    "\n",
    "\n",
    "model.save(\"modelloLSTM2\")\n",
    "\n",
    "\n",
    "acc_tot, acc_classes, precision_classes, recall_classes = statistical_measures(predict, label) # richiamo la funzione\n",
    "print(acc_tot, acc_classes, precision_classes, recall_classes)\n",
    "\n",
    "cm = (confusion_matrix(label, predict))\n",
    "true_labels = np.unique(Y_test) # creo il vettore delle classi possibili\n",
    "\n",
    "\n",
    "df_cm = pd.DataFrame(cm/np.sum(cm, axis=1), index = [i for i in true_labels], columns = [i for i in true_labels]) # percetuali di quanti esempi per classe sono stati classificati correttamente\n",
    "df_cm.head()\n",
    "\n",
    "plt.figure(figsize = (12,12)) # size della figura\n",
    "sn.heatmap(df_cm, annot=True, fmt='.2%',cbar=False, linewidths=.8, square=True, xticklabels=true_labels,\n",
    "            yticklabels=true_labels ) # confusion matrix\n",
    "plt.title('Confusion Matrix', fontsize=22)\n",
    "plt.ylabel('Target', fontsize=20)\n",
    "plt.xlabel('Output', fontsize=20)"
   ]
  },
  {
   "cell_type": "code",
   "execution_count": null,
   "id": "b01b1990",
   "metadata": {},
   "outputs": [],
   "source": []
  }
 ],
 "metadata": {
  "kernelspec": {
   "display_name": "Python 3 (ipykernel)",
   "language": "python",
   "name": "python3"
  },
  "language_info": {
   "codemirror_mode": {
    "name": "ipython",
    "version": 3
   },
   "file_extension": ".py",
   "mimetype": "text/x-python",
   "name": "python",
   "nbconvert_exporter": "python",
   "pygments_lexer": "ipython3",
   "version": "3.9.12"
  }
 },
 "nbformat": 4,
 "nbformat_minor": 5
}
